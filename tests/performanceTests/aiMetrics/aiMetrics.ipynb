{
  "cells": [
    {
      "cell_type": "code",
      "execution_count": null,
      "metadata": {
        "colab": {
          "base_uri": "https://localhost:8080/"
        },
        "id": "M3WX2O9LBASE",
        "outputId": "124b594b-ac19-4a09-c995-e40622ddbfb6"
      },
      "outputs": [],
      "source": [
        "import pandas as pd\n",
        "import tabpfn\n",
        "import joblib\n",
        "from sklearn.model_selection import train_test_split\n",
        "from sklearn.metrics import accuracy_score, precision_score, recall_score, confusion_matrix, classification_report\n",
        "\n",
        "def init_model():\n",
        "    model = joblib.load('./model.joblib')\n",
        "    return model\n",
        "\n",
        "to_drop = ['acc_z_mpf', 'acc_z_iqr', 'acc_x_three_quarters', 'acc_y_three_quarters',\n",
        "           'acc_z_three_quarters', 'acc_y_kurtosis_f', 'acc_z_kurtosis_f', 'acc_y_skewness_f',\n",
        "           'acc_z_skewness_f', 'acc_x_iqr', 'acc_y_iqr', 'acc_y_one_quarter', 'acc_y_wilson_amp',\n",
        "           'acc_z_wilson_amp', 'acc_y_wf', 'acc_y_p2p', 'acc_z_p2p', 'acc_x_wf', 'acc_y_mav', 'acc_z_mav',\n",
        "           'acc_y_stdev', 'acc_x_mad', 'acc_z_wf', 'acc_x_p2p', 'acc_x_kurtosis_f', 'acc_x_skewness_f',\n",
        "           'acc_x_mav', 'acc_y_enwacto_1', 'acc_x_enwacto_1', 'acc_x_autoregyw_2', 'acc_y_autoregyw_1',\n",
        "           'acc_x_autoregburg_1', 'acc_y_autoregburg_1', 'acc_x_autoregburg_2', 'acc_x_autoregburg_3',\n",
        "           'acc_x_autoregburg_4', 'acc_y_autoregburg_2', 'acc_y_autoregburg_3', 'acc_z_autoregyw_3',\n",
        "           'acc_z_autoregburg_2', 'acc_z_autoregburg_3', 'acc_z_autoregburg_4', 'acc_x_mpf', 'acc_x_wilson_amp',\n",
        "           'acc_z_one_quarter', 'acc_x_slope_change', 'acc_y_slope_change', 'acc_z_slope_change', 'acc_x_rms',\n",
        "           'acc_x_mean', 'acc_y_mad', 'acc_y_zerocr', 'acc_y_autoregyw_2', 'acc_y_autoregyw_4', 'acc_z_autoregyw_1']\n",
        "\n",
        "test = pd.read_csv(\"./merged_features.csv\").drop(columns=to_drop)\n",
        "model = init_model()\n",
        "\n",
        "X_test = test.drop(columns=['activity'])\n",
        "y_test = test['activity']\n",
        "\n",
        "# Make predictions on the test set\n",
        "y_pred = model.predict(X_test)\n",
        "\n",
        "# Calculate accuracy\n",
        "accuracy = accuracy_score(y_test, y_pred)\n",
        "print(f'Accuracy: {accuracy:.4f}')\n",
        "\n",
        "# Calculate precision\n",
        "precision = precision_score(y_test, y_pred,average='macro')\n",
        "print(f'Precision: {precision:.4f}')\n",
        "\n",
        "# Calculate recall\n",
        "recall = recall_score(y_test, y_pred,average='macro')\n",
        "print(f'Recall: {recall:.4f}')\n",
        "\n",
        "# Confusion Matrix\n",
        "conf_matrix = confusion_matrix(y_test, y_pred)\n",
        "print(f'Confusion Matrix:\\n{conf_matrix}')\n",
        "\n",
        "# Classification Report\n",
        "class_report = classification_report(y_test, y_pred)\n",
        "print(f'Classification Report:\\n{class_report}')\n"
      ]
    },
    {
      "cell_type": "code",
      "execution_count": null,
      "metadata": {
        "colab": {
          "base_uri": "https://localhost:8080/",
          "height": 580
        },
        "id": "RajzouVuMcA5",
        "outputId": "9669a846-214d-4485-e219-efbe1cd9c1a2"
      },
      "outputs": [],
      "source": [
        "import seaborn as sns\n",
        "import matplotlib.pyplot as plt\n",
        "sns.set(font_scale=1.2)\n",
        "plt.figure(figsize=(8, 6))\n",
        "sns.heatmap(conf_matrix, annot=True, fmt='g', cmap='Blues', cbar=False,\n",
        "            xticklabels=['Downstairs', 'Resting', 'Upstairs', 'Walking'],\n",
        "            yticklabels=['Downstairs', 'Resting', 'Upstairs', 'Walking'])\n",
        "plt.xlabel('Przewidziana etykieta aktywności')\n",
        "plt.ylabel('Prawdziwa etykieta aktywności')\n",
        "plt.title('Tablica pomyłek')\n",
        "plt.show()"
      ]
    }
  ],
  "metadata": {
    "colab": {
      "provenance": []
    },
    "kernelspec": {
      "display_name": "Python 3",
      "name": "python3"
    },
    "language_info": {
      "name": "python"
    }
  },
  "nbformat": 4,
  "nbformat_minor": 0
}
