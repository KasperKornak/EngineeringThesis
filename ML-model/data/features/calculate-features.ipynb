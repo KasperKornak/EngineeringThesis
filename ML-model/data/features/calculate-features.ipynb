{
 "cells": [
  {
   "cell_type": "markdown",
   "metadata": {},
   "source": [
    "# Calculating features\n",
    "The aim of this notebook is to calculate the features of each `.csv` file containing activity. First, each `.csv` is used to calculate features and new `.csv` file with **_features** suffix is created. Then, new column called `activity` is created based on the name of the source file and all rows with empty values. Finally, one file with all features comined, called `merged_features.csv` is created."
   ]
  },
  {
   "cell_type": "code",
   "execution_count": 1,
   "metadata": {},
   "outputs": [],
   "source": [
    "from SignalFeatures import *\n",
    "import pandas as pd\n",
    "import os"
   ]
  },
  {
   "cell_type": "code",
   "execution_count": 6,
   "metadata": {},
   "outputs": [
    {
     "name": "stdout",
     "output_type": "stream",
     "text": [
      "=====\n",
      "operands could not be broadcast together with shapes (334,) (335,) \n",
      "=====\n",
      "=====\n",
      "97 columns passed, passed data had 96 columns\n",
      "=====\n",
      "=====\n",
      "operands could not be broadcast together with shapes (232,) (233,) \n",
      "=====\n",
      "=====\n",
      "97 columns passed, passed data had 96 columns\n",
      "=====\n",
      "=====\n",
      "97 columns passed, passed data had 94 columns\n",
      "=====\n"
     ]
    }
   ],
   "source": [
    "input_directory = '/Users/kasper/Desktop/python/In progress/EngineeringThesis/ML-model/data/processed'\n",
    "\n",
    "# loop through each .csv file in the directory\n",
    "for filename in os.listdir(input_directory):\n",
    "    if filename.endswith('.csv'):\n",
    "        windowDf = pd.read_csv('/Users/kasper/Desktop/python/In progress/EngineeringThesis/ML-model/data/processed/' + filename)\n",
    "\n",
    "        # head and tail cut-off seconds\n",
    "        tail = 1\n",
    "        head = 1\n",
    "        windows = []\n",
    "\n",
    "        # select range based on head and tail seconds\n",
    "        # adj is used to cut off signal at good point\n",
    "        range_df = windowDf.iloc[head*100:len(windowDf)-tail*100]\n",
    "        adj = len(range_df)%500\n",
    "\n",
    "        # calculate features for window\n",
    "        for i in range(len(windowDf)-tail*100-adj):\n",
    "                if i % 500 == 0:    \n",
    "                    currSeg = range_df.iloc[i:i+501].reset_index(False).drop(columns = ['index'])\n",
    "                    window_feat = feats_df(currSeg)\n",
    "                    windows.append(window_feat)\n",
    "\n",
    "        currDf = pd.concat(windows)\n",
    "\n",
    "        output_csv = os.path.splitext(filename)[0] + '_features.csv'\n",
    "        currDf.to_csv(output_csv, index=False)"
   ]
  },
  {
   "cell_type": "code",
   "execution_count": 7,
   "metadata": {},
   "outputs": [],
   "source": [
    "input_directory = '/Users/kasper/Desktop/python/In progress/EngineeringThesis/ML-model/data/features/'\n",
    "\n",
    "# func to insert activity label\n",
    "def check_activity(filename):\n",
    "    if 'walking' in filename:\n",
    "        activity = 'walking'\n",
    "    elif 'downstairs' in filename:\n",
    "        activity = 'downstairs'\n",
    "    elif 'upstairs' in filename:\n",
    "        activity = 'upstairs'\n",
    "    elif 'lying' in filename:\n",
    "        activity = 'resting'\n",
    "    elif 'sitting' in filename:\n",
    "        activity = 'resting'\n",
    "\n",
    "    return activity\n",
    "    \n",
    "# loop through each .csv file in the directory\n",
    "# clean indicies, add activity column\n",
    "for filename in os.listdir(input_directory):\n",
    "    if filename.endswith('.csv'):\n",
    "        df = pd.read_csv(input_directory + filename)\n",
    "        act = check_activity(filename)\n",
    "        df['activity'] = act\n",
    "        df.dropna(axis=0)\n",
    "        df.to_csv(input_directory + filename,index=False)"
   ]
  },
  {
   "cell_type": "code",
   "execution_count": 8,
   "metadata": {},
   "outputs": [],
   "source": [
    "# get all .csv files and create new df for merging\n",
    "input_directory = '/Users/kasper/Desktop/python/In progress/EngineeringThesis/ML-model/data/features'\n",
    "csv_files = [file for file in os.listdir(input_directory) if file.endswith('.csv')]\n",
    "merged_df = pd.DataFrame()\n",
    "\n",
    "# loop through each .csv file in the directory\n",
    "for file in csv_files:\n",
    "    file_path = os.path.join(input_directory, file)\n",
    "    df = pd.read_csv(file_path)\n",
    "    merged_df = pd.concat([merged_df, df], ignore_index=True)\n",
    "\n",
    "# save all data into .csv file\n",
    "clean_df = merged_df.dropna()\n",
    "clean_df.to_csv('merged_features.csv', index=False)"
   ]
  }
 ],
 "metadata": {
  "kernelspec": {
   "display_name": "base",
   "language": "python",
   "name": "python3"
  },
  "language_info": {
   "codemirror_mode": {
    "name": "ipython",
    "version": 3
   },
   "file_extension": ".py",
   "mimetype": "text/x-python",
   "name": "python",
   "nbconvert_exporter": "python",
   "pygments_lexer": "ipython3",
   "version": "3.9.16"
  }
 },
 "nbformat": 4,
 "nbformat_minor": 2
}
