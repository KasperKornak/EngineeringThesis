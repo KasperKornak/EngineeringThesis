{
 "cells": [
  {
   "cell_type": "code",
   "execution_count": 8,
   "metadata": {},
   "outputs": [],
   "source": [
    "import os\n",
    "import pandas as pd\n",
    "\n",
    "def process_csv(input_csv):\n",
    "    df = pd.read_csv(input_csv)\n",
    "\n",
    "    # extract columns acc-x, acc-y, acc-z and rename them\n",
    "    df_xyz = df[['acc-x', 'acc-y', 'acc-z']]\n",
    "    df_xyz = df_xyz.rename(columns={'acc-x': 'x', 'acc-y': 'y', 'acc-z': 'z'})\n",
    "\n",
    "    # save the processed DataFrame to a new .csv file\n",
    "    output_csv = os.path.splitext(input_csv)[0] + '_processed.csv'\n",
    "    df_xyz.to_csv(output_csv, index=False)\n",
    "\n",
    "    print(f\"Processed: {input_csv} -> {output_csv}\")\n"
   ]
  },
  {
   "cell_type": "code",
   "execution_count": 9,
   "metadata": {},
   "outputs": [
    {
     "name": "stdout",
     "output_type": "stream",
     "text": [
      "Processed: /Users/kasper/Desktop/python/In progress/EngineeringThesis/ML-model/data/raw/upstairs2.csv -> /Users/kasper/Desktop/python/In progress/EngineeringThesis/ML-model/data/raw/upstairs2_processed.csv\n",
      "Processed: /Users/kasper/Desktop/python/In progress/EngineeringThesis/ML-model/data/raw/downstairs2.csv -> /Users/kasper/Desktop/python/In progress/EngineeringThesis/ML-model/data/raw/downstairs2_processed.csv\n",
      "Processed: /Users/kasper/Desktop/python/In progress/EngineeringThesis/ML-model/data/raw/downstairs3.csv -> /Users/kasper/Desktop/python/In progress/EngineeringThesis/ML-model/data/raw/downstairs3_processed.csv\n",
      "Processed: /Users/kasper/Desktop/python/In progress/EngineeringThesis/ML-model/data/raw/upstairs3.csv -> /Users/kasper/Desktop/python/In progress/EngineeringThesis/ML-model/data/raw/upstairs3_processed.csv\n",
      "Processed: /Users/kasper/Desktop/python/In progress/EngineeringThesis/ML-model/data/raw/upstairs1.csv -> /Users/kasper/Desktop/python/In progress/EngineeringThesis/ML-model/data/raw/upstairs1_processed.csv\n",
      "Processed: /Users/kasper/Desktop/python/In progress/EngineeringThesis/ML-model/data/raw/downstairs1.csv -> /Users/kasper/Desktop/python/In progress/EngineeringThesis/ML-model/data/raw/downstairs1_processed.csv\n",
      "Processed: /Users/kasper/Desktop/python/In progress/EngineeringThesis/ML-model/data/raw/upstairs4.csv -> /Users/kasper/Desktop/python/In progress/EngineeringThesis/ML-model/data/raw/upstairs4_processed.csv\n",
      "Processed: /Users/kasper/Desktop/python/In progress/EngineeringThesis/ML-model/data/raw/downstairs4.csv -> /Users/kasper/Desktop/python/In progress/EngineeringThesis/ML-model/data/raw/downstairs4_processed.csv\n",
      "Processed: /Users/kasper/Desktop/python/In progress/EngineeringThesis/ML-model/data/raw/downstairs5.csv -> /Users/kasper/Desktop/python/In progress/EngineeringThesis/ML-model/data/raw/downstairs5_processed.csv\n",
      "Processed: /Users/kasper/Desktop/python/In progress/EngineeringThesis/ML-model/data/raw/upstairs5.csv -> /Users/kasper/Desktop/python/In progress/EngineeringThesis/ML-model/data/raw/upstairs5_processed.csv\n",
      "Processed: /Users/kasper/Desktop/python/In progress/EngineeringThesis/ML-model/data/raw/sitting4.csv -> /Users/kasper/Desktop/python/In progress/EngineeringThesis/ML-model/data/raw/sitting4_processed.csv\n",
      "Processed: /Users/kasper/Desktop/python/In progress/EngineeringThesis/ML-model/data/raw/sitting5.csv -> /Users/kasper/Desktop/python/In progress/EngineeringThesis/ML-model/data/raw/sitting5_processed.csv\n",
      "Processed: /Users/kasper/Desktop/python/In progress/EngineeringThesis/ML-model/data/raw/sitting2.csv -> /Users/kasper/Desktop/python/In progress/EngineeringThesis/ML-model/data/raw/sitting2_processed.csv\n",
      "Processed: /Users/kasper/Desktop/python/In progress/EngineeringThesis/ML-model/data/raw/sitting3.csv -> /Users/kasper/Desktop/python/In progress/EngineeringThesis/ML-model/data/raw/sitting3_processed.csv\n",
      "Processed: /Users/kasper/Desktop/python/In progress/EngineeringThesis/ML-model/data/raw/sitting1.csv -> /Users/kasper/Desktop/python/In progress/EngineeringThesis/ML-model/data/raw/sitting1_processed.csv\n",
      "Processed: /Users/kasper/Desktop/python/In progress/EngineeringThesis/ML-model/data/raw/standing5.csv -> /Users/kasper/Desktop/python/In progress/EngineeringThesis/ML-model/data/raw/standing5_processed.csv\n",
      "Processed: /Users/kasper/Desktop/python/In progress/EngineeringThesis/ML-model/data/raw/standing4.csv -> /Users/kasper/Desktop/python/In progress/EngineeringThesis/ML-model/data/raw/standing4_processed.csv\n",
      "Processed: /Users/kasper/Desktop/python/In progress/EngineeringThesis/ML-model/data/raw/walking1.csv -> /Users/kasper/Desktop/python/In progress/EngineeringThesis/ML-model/data/raw/walking1_processed.csv\n",
      "Processed: /Users/kasper/Desktop/python/In progress/EngineeringThesis/ML-model/data/raw/walking3.csv -> /Users/kasper/Desktop/python/In progress/EngineeringThesis/ML-model/data/raw/walking3_processed.csv\n",
      "Processed: /Users/kasper/Desktop/python/In progress/EngineeringThesis/ML-model/data/raw/lying5.csv -> /Users/kasper/Desktop/python/In progress/EngineeringThesis/ML-model/data/raw/lying5_processed.csv\n",
      "Processed: /Users/kasper/Desktop/python/In progress/EngineeringThesis/ML-model/data/raw/lying4.csv -> /Users/kasper/Desktop/python/In progress/EngineeringThesis/ML-model/data/raw/lying4_processed.csv\n",
      "Processed: /Users/kasper/Desktop/python/In progress/EngineeringThesis/ML-model/data/raw/walking2.csv -> /Users/kasper/Desktop/python/In progress/EngineeringThesis/ML-model/data/raw/walking2_processed.csv\n",
      "Processed: /Users/kasper/Desktop/python/In progress/EngineeringThesis/ML-model/data/raw/standing3.csv -> /Users/kasper/Desktop/python/In progress/EngineeringThesis/ML-model/data/raw/standing3_processed.csv\n",
      "Processed: /Users/kasper/Desktop/python/In progress/EngineeringThesis/ML-model/data/raw/standing2.csv -> /Users/kasper/Desktop/python/In progress/EngineeringThesis/ML-model/data/raw/standing2_processed.csv\n",
      "Processed: /Users/kasper/Desktop/python/In progress/EngineeringThesis/ML-model/data/raw/lying1.csv -> /Users/kasper/Desktop/python/In progress/EngineeringThesis/ML-model/data/raw/lying1_processed.csv\n",
      "Processed: /Users/kasper/Desktop/python/In progress/EngineeringThesis/ML-model/data/raw/lying3.csv -> /Users/kasper/Desktop/python/In progress/EngineeringThesis/ML-model/data/raw/lying3_processed.csv\n",
      "Processed: /Users/kasper/Desktop/python/In progress/EngineeringThesis/ML-model/data/raw/walking5.csv -> /Users/kasper/Desktop/python/In progress/EngineeringThesis/ML-model/data/raw/walking5_processed.csv\n",
      "Processed: /Users/kasper/Desktop/python/In progress/EngineeringThesis/ML-model/data/raw/standing1.csv -> /Users/kasper/Desktop/python/In progress/EngineeringThesis/ML-model/data/raw/standing1_processed.csv\n",
      "Processed: /Users/kasper/Desktop/python/In progress/EngineeringThesis/ML-model/data/raw/walking4.csv -> /Users/kasper/Desktop/python/In progress/EngineeringThesis/ML-model/data/raw/walking4_processed.csv\n",
      "Processed: /Users/kasper/Desktop/python/In progress/EngineeringThesis/ML-model/data/raw/lying2.csv -> /Users/kasper/Desktop/python/In progress/EngineeringThesis/ML-model/data/raw/lying2_processed.csv\n"
     ]
    }
   ],
   "source": [
    "input_directory = 'ML-model/data/raw'\n",
    "\n",
    "# loop through each .csv file in the directory\n",
    "for filename in os.listdir(input_directory):\n",
    "    if filename.endswith('.csv'):\n",
    "        input_csv = os.path.join(input_directory, filename)\n",
    "        process_csv(input_csv)"
   ]
  }
 ],
 "metadata": {
  "kernelspec": {
   "display_name": "base",
   "language": "python",
   "name": "python3"
  },
  "language_info": {
   "codemirror_mode": {
    "name": "ipython",
    "version": 3
   },
   "file_extension": ".py",
   "mimetype": "text/x-python",
   "name": "python",
   "nbconvert_exporter": "python",
   "pygments_lexer": "ipython3",
   "version": "3.9.16"
  }
 },
 "nbformat": 4,
 "nbformat_minor": 2
}
