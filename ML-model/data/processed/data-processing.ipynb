{
 "cells": [
  {
   "cell_type": "markdown",
   "metadata": {},
   "source": [
    "# Data processing\n",
    "Aim of this notebook is to get only accelerometer data from raw .csv files, and rename columns for easier feature calculation and ML model training."
   ]
  },
  {
   "cell_type": "code",
   "execution_count": 1,
   "metadata": {},
   "outputs": [],
   "source": [
    "import os\n",
    "import pandas as pd\n",
    "\n",
    "def process_csv(input_csv):\n",
    "    df = pd.read_csv(input_csv)\n",
    "\n",
    "    # extract columns acc-x, acc-y, acc-z and rename them\n",
    "    df_xyz = df[['acc-x', 'acc-y', 'acc-z']]\n",
    "    df_xyz = df_xyz.rename(columns={'acc-x': 'x', 'acc-y': 'y', 'acc-z': 'z'})\n",
    "    \n",
    "    # save the processed DataFrame to a new .csv file\n",
    "    output_csv = os.path.splitext(input_csv)[0] + '_processed.csv'\n",
    "    df_xyz.to_csv(output_csv, index=False)\n",
    "\n",
    "    print(f\"Processed: {input_csv} -> {output_csv}\")\n"
   ]
  },
  {
   "cell_type": "code",
   "execution_count": 2,
   "metadata": {},
   "outputs": [
    {
     "name": "stdout",
     "output_type": "stream",
     "text": [
      "Processed: ../raw/upstairs2.csv -> ../raw/upstairs2_processed.csv\n",
      "Processed: ../raw/downstairs2.csv -> ../raw/downstairs2_processed.csv\n",
      "Processed: ../raw/downstairs3.csv -> ../raw/downstairs3_processed.csv\n",
      "Processed: ../raw/upstairs3.csv -> ../raw/upstairs3_processed.csv\n",
      "Processed: ../raw/upstairs1.csv -> ../raw/upstairs1_processed.csv\n",
      "Processed: ../raw/downstairs1.csv -> ../raw/downstairs1_processed.csv\n",
      "Processed: ../raw/upstairs4.csv -> ../raw/upstairs4_processed.csv\n",
      "Processed: ../raw/downstairs4.csv -> ../raw/downstairs4_processed.csv\n",
      "Processed: ../raw/downstairs5.csv -> ../raw/downstairs5_processed.csv\n",
      "Processed: ../raw/upstairs5.csv -> ../raw/upstairs5_processed.csv\n",
      "Processed: ../raw/upstairs7.csv -> ../raw/upstairs7_processed.csv\n",
      "Processed: ../raw/downstairs7.csv -> ../raw/downstairs7_processed.csv\n",
      "Processed: ../raw/upstairs19.csv -> ../raw/upstairs19_processed.csv\n",
      "Processed: ../raw/downstairs6.csv -> ../raw/downstairs6_processed.csv\n",
      "Processed: ../raw/upstairs18.csv -> ../raw/upstairs18_processed.csv\n",
      "Processed: ../raw/upstairs6.csv -> ../raw/upstairs6_processed.csv\n",
      "Processed: ../raw/downstairs19.csv -> ../raw/downstairs19_processed.csv\n",
      "Processed: ../raw/downstairs18.csv -> ../raw/downstairs18_processed.csv\n",
      "Processed: ../raw/downstairs15.csv -> ../raw/downstairs15_processed.csv\n",
      "Processed: ../raw/sitting4.csv -> ../raw/sitting4_processed.csv\n",
      "Processed: ../raw/sitting5.csv -> ../raw/sitting5_processed.csv\n",
      "Processed: ../raw/downstairs14.csv -> ../raw/downstairs14_processed.csv\n",
      "Processed: ../raw/downstairs16.csv -> ../raw/downstairs16_processed.csv\n",
      "Processed: ../raw/downstairs17.csv -> ../raw/downstairs17_processed.csv\n",
      "Processed: ../raw/downstairs13.csv -> ../raw/downstairs13_processed.csv\n",
      "Processed: ../raw/sitting2.csv -> ../raw/sitting2_processed.csv\n",
      "Processed: ../raw/sitting3.csv -> ../raw/sitting3_processed.csv\n",
      "Processed: ../raw/downstairs12.csv -> ../raw/downstairs12_processed.csv\n",
      "Processed: ../raw/downstairs10.csv -> ../raw/downstairs10_processed.csv\n",
      "Processed: ../raw/sitting1.csv -> ../raw/sitting1_processed.csv\n",
      "Processed: ../raw/downstairs11.csv -> ../raw/downstairs11_processed.csv\n",
      "Processed: ../raw/upstairs15.csv -> ../raw/upstairs15_processed.csv\n",
      "Processed: ../raw/upstairs14.csv -> ../raw/upstairs14_processed.csv\n",
      "Processed: ../raw/walking1.csv -> ../raw/walking1_processed.csv\n",
      "Processed: ../raw/upstairs8.csv -> ../raw/upstairs8_processed.csv\n",
      "Processed: ../raw/walking3.csv -> ../raw/walking3_processed.csv\n",
      "Processed: ../raw/lying5.csv -> ../raw/lying5_processed.csv\n",
      "Processed: ../raw/upstairs16.csv -> ../raw/upstairs16_processed.csv\n",
      "Processed: ../raw/downstairs8.csv -> ../raw/downstairs8_processed.csv\n",
      "Processed: ../raw/upstairs17.csv -> ../raw/upstairs17_processed.csv\n",
      "Processed: ../raw/downstairs9.csv -> ../raw/downstairs9_processed.csv\n",
      "Processed: ../raw/lying4.csv -> ../raw/lying4_processed.csv\n",
      "Processed: ../raw/walking2.csv -> ../raw/walking2_processed.csv\n",
      "Processed: ../raw/upstairs9.csv -> ../raw/upstairs9_processed.csv\n",
      "Processed: ../raw/upstairs13.csv -> ../raw/upstairs13_processed.csv\n",
      "Processed: ../raw/upstairs12.csv -> ../raw/upstairs12_processed.csv\n",
      "Processed: ../raw/lying1.csv -> ../raw/lying1_processed.csv\n",
      "Processed: ../raw/lying3.csv -> ../raw/lying3_processed.csv\n",
      "Processed: ../raw/walking5.csv -> ../raw/walking5_processed.csv\n",
      "Processed: ../raw/upstairs10.csv -> ../raw/upstairs10_processed.csv\n",
      "Processed: ../raw/upstairs11.csv -> ../raw/upstairs11_processed.csv\n",
      "Processed: ../raw/walking4.csv -> ../raw/walking4_processed.csv\n",
      "Processed: ../raw/lying2.csv -> ../raw/lying2_processed.csv\n"
     ]
    }
   ],
   "source": [
    "input_directory = '../raw'\n",
    "\n",
    "# loop through each .csv file in the directory\n",
    "for filename in os.listdir(input_directory):\n",
    "    if filename.endswith('.csv'):\n",
    "        input_csv = os.path.join(input_directory, filename)\n",
    "        process_csv(input_csv)"
   ]
  }
 ],
 "metadata": {
  "kernelspec": {
   "display_name": "base",
   "language": "python",
   "name": "python3"
  },
  "language_info": {
   "codemirror_mode": {
    "name": "ipython",
    "version": 3
   },
   "file_extension": ".py",
   "mimetype": "text/x-python",
   "name": "python",
   "nbconvert_exporter": "python",
   "pygments_lexer": "ipython3",
   "version": "3.9.16"
  }
 },
 "nbformat": 4,
 "nbformat_minor": 2
}
